{
 "cells": [
  {
   "cell_type": "markdown",
   "metadata": {},
   "source": [
    "## Preprocessing"
   ]
  },
  {
   "cell_type": "code",
   "execution_count": 30,
   "metadata": {},
   "outputs": [
    {
     "name": "stdout",
     "output_type": "stream",
     "text": [
      "                                            headline  \\\n",
      "0        Power by Proxy: How Iran Shapes the Mideast   \n",
      "1  Arrests Expose Rift Between N.Y.P.D. and ‘Viol...   \n",
      "2  Pardoned for Serving in Ukraine, They Return t...   \n",
      "3  Berlin Was a Beacon of Artistic Freedom. Gaza ...   \n",
      "4        The New York Times News Quiz, April 5, 2024   \n",
      "\n",
      "                                             article  \\\n",
      "0  Advertisement    and     TURKEY Militias in Sy...   \n",
      "1  Advertisement Supported by An outreach worker ...   \n",
      "2  Advertisement Supported by Recruiting convicts...   \n",
      "3  Critic’s Notebook The home of boundary-pushing...   \n",
      "4  Advertisement Did you follow the news this wee...   \n",
      "\n",
      "                                                text  \\\n",
      "0  Power by Proxy: How Iran Shapes the Mideast Ad...   \n",
      "1  Arrests Expose Rift Between N.Y.P.D. and ‘Viol...   \n",
      "2  Pardoned for Serving in Ukraine, They Return t...   \n",
      "3  Berlin Was a Beacon of Artistic Freedom. Gaza ...   \n",
      "4  The New York Times News Quiz, April 5, 2024 Ad...   \n",
      "\n",
      "                                      processed_text  \n",
      "0  ['power', 'proxi', ':', 'iran', 'shape', 'mide...  \n",
      "1  ['arrest', 'expos', 'rift', 'n.y.p.d', '.', '‘...  \n",
      "2  ['pardon', 'serv', 'ukrain', ',', 'return', 'r...  \n",
      "3  ['berlin', 'beacon', 'artist', 'freedom', '.',...  \n",
      "4  ['new', 'york', 'time', 'news', 'quiz', ',', '...  \n"
     ]
    }
   ],
   "source": [
    "import pandas as pd\n",
    "\n",
    "# Read the JSON file into a DataFrame\n",
    "df = pd.read_csv('nytimes_articles.csv')\n",
    "\n",
    "# Display the DataFrame\n",
    "print(df.head())"
   ]
  },
  {
   "cell_type": "code",
   "execution_count": 32,
   "metadata": {},
   "outputs": [
    {
     "data": {
      "text/plain": [
       "(47, 4)"
      ]
     },
     "execution_count": 32,
     "metadata": {},
     "output_type": "execute_result"
    }
   ],
   "source": [
    "df.shape"
   ]
  },
  {
   "cell_type": "code",
   "execution_count": 31,
   "metadata": {},
   "outputs": [
    {
     "data": {
      "text/plain": [
       "headline\n",
       "Power by Proxy: How Iran Shapes the Mideast                                                                1\n",
       "Can the Left Be Happy?                                                                                     1\n",
       "Regulating Opioid Prescriptions                                                                            1\n",
       "The Birth Dearth and the Smartphone Age                                                                    1\n",
       "Three Democratic Senators Are Stuck Indulging an Outdated Fantasy                                          1\n",
       "Joe Lieberman and David Mixner, Exemplary Outsiders                                                        1\n",
       "Are Smartphones Just a Scapegoat for Our Unhappy Children?                                                 1\n",
       "Why Richard Serra’s                                                                                        1\n",
       "My Story Was Told in ‘Hotel Rwanda.’ Here’s What I Want the World to Know Now.                             1\n",
       "Who Is Jorge Glas, an Ecuadorean Politician Arrested at Mexico’s Embassy?                                  1\n",
       "How a Vacant Lot Became Our Own Dirtbag Narnia                                                             1\n",
       "Is New York City Overdue for a Major Earthquake?                                                           1\n",
       "You Don’t Just See a Total Solar Eclipse. You Feel It Completely.                                          1\n",
       "The Point                                                                                                  1\n",
       "Mexico Breaks Diplomatic Ties With Ecuador After Arrest at Embassy                                         1\n",
       "Donald Trump’s Insatiable Bloodlust                                                                        1\n",
       "The Eclipse That Ended a War and Shook the Gods Forever                                                    1\n",
       "The Eclipse Was So Nice, They’re Doing It Twice                                                            1\n",
       "No Eclipse Plans? Try These Last-Minute Strategies.                                                        1\n",
       "Eclipses Injured Their Eyes, and the World Never Looked the Same                                           1\n",
       "Consumers Hate ‘Price Discrimination,’ but They Sure Love a Discount                                       1\n",
       "As Gen X-ers Inch Toward Retirement, They’re Considering Where to Live                                     1\n",
       "Our Mom Is 75. We’re Moving Heaven and Earth for This Eclipse.                                             1\n",
       "The Rage in ‘Carrie’ Feels More Relevant Than Ever                                                         1\n",
       "Arrests Expose Rift Between N.Y.P.D. and ‘Violence Interrupters’                                           1\n",
       "Middle East Crisis                                                                                         1\n",
       "Pardoned for Serving in Ukraine, They Return to Russia to Kill Again                                       1\n",
       "Berlin Was a Beacon of Artistic Freedom. Gaza Changed Everything.                                          1\n",
       "The New York Times News Quiz, April 5, 2024                                                                1\n",
       "Gaza War Turns Spotlight on Long Pipeline of U.S. Weapons to Israel                                        1\n",
       "Flashback: Your Weekly History Quiz, April 6, 2024                                                         1\n",
       "How ‘All in the Family’ Explains Biden’s Strength Among Seniors                                            1\n",
       "What to Know About Tech Companies Using A.I. to Teach Their Own A.I.                                       1\n",
       "How Tech Giants Cut Corners to Harvest Data for A.I.                                                       1\n",
       "The Puzzle Personality Quiz                                                                                1\n",
       "Russia Pounds Kharkiv in Deadly Barrage, Straining Ukraine’s Defenses                                      1\n",
       "Is This the End of Academic Freedom?                                                                       1\n",
       "A Frozen Pond and a New Way to Experience an Ancient Jewish Ritual in Maine                                1\n",
       "Why Time Is Running Out Across the Maldives’ Lovely Little Islands                                         1\n",
       "Election Updates: Trump looks to keep pace with Biden in the money race with high-dollar Florida event.    1\n",
       "Biden Waves His First-Term Résumé at a Skeptical America                                                   1\n",
       "Sickened by U.S. Nuclear Program, Communities Turn to Congress for Aid                                     1\n",
       "How Those Colorful Azulejo Tiles Are Made                                                                  1\n",
       "New York City Set to Pay a Record $28 Million to Settle Rikers Island Suit                                 1\n",
       "From the Horror to the Envy of Africa: Rwanda’s Ruler Holds Tight Grip                                     1\n",
       "Biden Is Winning the Money Race. Does It Matter?                                                           1\n",
       "Help Ukraine Hold the Line                                                                                 1\n",
       "Name: count, dtype: int64"
      ]
     },
     "execution_count": 31,
     "metadata": {},
     "output_type": "execute_result"
    }
   ],
   "source": [
    "df.headline.value_counts()"
   ]
  },
  {
   "cell_type": "code",
   "execution_count": 2,
   "metadata": {},
   "outputs": [],
   "source": [
    "def concatenate(row):\n",
    "    headline = row[\"headline\"]\n",
    "    article = row[\"article\"]\n",
    "    return headline+\" \"+article"
   ]
  },
  {
   "cell_type": "code",
   "execution_count": 3,
   "metadata": {},
   "outputs": [
    {
     "data": {
      "text/html": [
       "<div>\n",
       "<style scoped>\n",
       "    .dataframe tbody tr th:only-of-type {\n",
       "        vertical-align: middle;\n",
       "    }\n",
       "\n",
       "    .dataframe tbody tr th {\n",
       "        vertical-align: top;\n",
       "    }\n",
       "\n",
       "    .dataframe thead th {\n",
       "        text-align: right;\n",
       "    }\n",
       "</style>\n",
       "<table border=\"1\" class=\"dataframe\">\n",
       "  <thead>\n",
       "    <tr style=\"text-align: right;\">\n",
       "      <th></th>\n",
       "      <th>headline</th>\n",
       "      <th>article</th>\n",
       "      <th>text</th>\n",
       "      <th>processed_text</th>\n",
       "    </tr>\n",
       "  </thead>\n",
       "  <tbody>\n",
       "    <tr>\n",
       "      <th>0</th>\n",
       "      <td>Power by Proxy: How Iran Shapes the Mideast</td>\n",
       "      <td>Advertisement    and     TURKEY Militias in Sy...</td>\n",
       "      <td>Power by Proxy: How Iran Shapes the Mideast Ad...</td>\n",
       "      <td>['power', 'proxi', ':', 'iran', 'shape', 'mide...</td>\n",
       "    </tr>\n",
       "    <tr>\n",
       "      <th>1</th>\n",
       "      <td>Arrests Expose Rift Between N.Y.P.D. and ‘Viol...</td>\n",
       "      <td>Advertisement Supported by An outreach worker ...</td>\n",
       "      <td>Arrests Expose Rift Between N.Y.P.D. and ‘Viol...</td>\n",
       "      <td>['arrest', 'expos', 'rift', 'n.y.p.d', '.', '‘...</td>\n",
       "    </tr>\n",
       "  </tbody>\n",
       "</table>\n",
       "</div>"
      ],
      "text/plain": [
       "                                            headline  \\\n",
       "0        Power by Proxy: How Iran Shapes the Mideast   \n",
       "1  Arrests Expose Rift Between N.Y.P.D. and ‘Viol...   \n",
       "\n",
       "                                             article  \\\n",
       "0  Advertisement    and     TURKEY Militias in Sy...   \n",
       "1  Advertisement Supported by An outreach worker ...   \n",
       "\n",
       "                                                text  \\\n",
       "0  Power by Proxy: How Iran Shapes the Mideast Ad...   \n",
       "1  Arrests Expose Rift Between N.Y.P.D. and ‘Viol...   \n",
       "\n",
       "                                      processed_text  \n",
       "0  ['power', 'proxi', ':', 'iran', 'shape', 'mide...  \n",
       "1  ['arrest', 'expos', 'rift', 'n.y.p.d', '.', '‘...  "
      ]
     },
     "execution_count": 3,
     "metadata": {},
     "output_type": "execute_result"
    }
   ],
   "source": [
    "df[\"text\"] = df.apply(concatenate,axis=1)\n",
    "df.head(2)"
   ]
  },
  {
   "cell_type": "code",
   "execution_count": 4,
   "metadata": {},
   "outputs": [
    {
     "data": {
      "text/plain": [
       "'Power by Proxy: How Iran Shapes the Mideast Advertisement    and     TURKEY Militias in Syria and Iraq SYRIA LEBANON Iran Hezbollah ISRAEL IRAQ Hamas Egypt Saudi Arabia OMAN The Houthis Sudan YEMEN 500 miles TURKEY Militias in Syria and Iraq LEBANON SYRIA Iran Hezbollah IRAQ ISRAEL Hamas Egypt Saudi Arabia The Houthis Sudan YEMEN 500 miles The New York Times For years, Iran has been the outsider. Predominantly Persian-speaking in a region where most people speak Arabic, overwhelmingly Shiite where most are Sunni, it has been crippled by Western sanctions meant to make it a pariah. Yet Iran has succeeded in projecting its military power across a large swath of the Middle East. Its reach equals — if not eclipses — that of traditional power centers like Egypt and Saudi Arabia. And now, spurred by the war in the Gaza Strip, armed groups that Iran has fostered over the past 45 years have mobilized simultaneously toward similar goals: diminishing Israeli power and confronting its closest ally, the United States. Iran has tried to capitalize on its outsider position by seeking out disempowered Shiite populations and offering to train and arm them, and by working with the sympathetic government of Syria. The shadow war between Israel and Iran broke into the open this week, when Israel struck an Iranian Embassy compound in Syria and  , renewing fears of a broader conflict. Iran has promised to retaliate, but the  : The Iranians want to avoid igniting a full-fledged war that might drag in the United States and threaten the survival of Iran’s regime. Altogether, Iran now supports more than 20 groups in the Middle East, directly or indirectly, with a combination of  . The United States has designated them as foreign terrorist organizations, and many of their leaders have been hit by sanctions, as has Tehran. While they are often lumped together, and they do in fact share many of Iran’s goals, these groups also have some purely local interests. And, with a few exceptions, Iran does not completely control them. Here is a look at the most prominent of the armed groups backed by Iran. A close ally, it gives Tehran a direct link to the Palestinian struggle, a cause that resonates across the Arab world. SYRIA Mediterranean Sea WEST BANK Tel Aviv Amman Jerusalem GAZA STRIP Hamas Area of activity Be’er Sheva JORDAN ISRAEL EGYPT 50 miles Mediterranean Sea Tel Aviv WEST BANK Jerusalem GAZA STRIP JORDAN Hamas Area of activity Be’er Sheva ISRAEL EGYPT 25 miles The New York Times Hamas dominates the Palestinian guerrilla fight against Israel that is based in the Gaza enclave, which their political wing took control of  .    On Oct. 7, Hamas invaded Israel from Gaza, killing roughly 1,200 people, including women and children, according to Israeli authorities, and taking more than 200 hostages.    Since its creation in 1987, Hamas has launched numerous strikes on Israel, often working with another Iranian-backed militant group, Palestinian Islamic Jihad. In 2021, the two groups fired     U.S. officials do not believe that Iran initiated the Hamas attack or that it had even been informed about it in advance.    But Hamas and Palestinian Islamic Jihad together receive more than $100 million a year from Tehran in addition to weapons and training, according to a 2020 U.S. State Department  . In a 2022  , Hamas’s political leader, Ismail Haniyeh, said Hamas received about $70 million a year.    Iran has not just provided weapons and training to both Hamas and Palestinian Islamic Jihad, it has also taught Hamas to make and assemble its own weapons from local  .      Although Hamas and other Palestinian groups follow the Sunni branch of Islam and have a different political orientation from Iran, they share antagonism for Israel and anger over the legacy of Western colonialism.    Iran’s outreach to Hamas began in Lebanon in the early 1990s after Israel forced hundreds of Palestinians, including Hamas leaders, to go there. In Lebanon, Hamas adherents quickly forged ties with members of another militia, Hezbollah, Shiite Muslims whose links to Iran were already well established. Through Hezbollah, Hamas became connected to Iran.    At times, however, that relationship has ruptured.    During the Arab Spring of 2011, Hamas backed the anti-government forces in Syria while Iran backed President Bashar al-Assad. And in 2015, Hamas leaned toward   against the   forces in Yemen favored by Iran.    But since then, there has been a   both between the Hamas leadership and  , and between Hamas and the Houthis.    For the most part, Hamas is equipped with comparatively unsophisticated weapons — but quantity makes up for what the group’s arsenal lacks in quality.    Before the war Hamas had thousands of short-range and medium-range rockets that can   at least 125 miles. From Gaza, some of them can reach as far as the Israeli cities of Eilat and Haifa, as well as Jerusalem and Tel Aviv.      It also has a large number of   missiles, which the group has used against Israeli troops in Gaza in recent months, according to weapon experts. And it has drones that it has used to attack Israeli tanks and communication nodes.    Within Gaza, Hamas has the ability to manufacture and assemble at least some of these weapons, using parts from Iran, as well as from China and Russia. It is not clear if those countries supplied them or if they were obtained through Iran and Hezbollah.    The largest, oldest and best-trained Iranian proxy group in the Middle East. CYPRUS Homs Tripoli Mediterranean Sea LEBANON SYRIA Beirut Approximate areas of high military activity Damascus 25 miles Haifa ISRAEL Mediterranean Sea Homs Tripoli LEBANON Beirut SYRIA Approximate areas of high military activity Damascus Haifa ISRAEL 25 miles The New York Times Hezbollah, a Shiite organization, has become the predominant political and military power in Lebanon.    Hezbollah, a longtime antagonist of Israel’s, began turning up the pressure on Israel’s border after the war in Gaza began on Oct. 7, launching strikes across the border. Israel has counterattacked, and many civilians on both sides of the border have been forced to flee their homes.    The most sustained conflict between Hezbollah and Israel was in 2006. That fight made clear how formidable Hezbollah forces had become, but it took a deep toll on the Lebanese,  , mostly civilians, and displacing  .    Hezbollah receives significant financial support from Iran, though the exact amount is hard to ascertain. One U.S. official testifying   put the amount at $700 million, but offered no evidence for that number. However, Iran’s cash support for Hezbollah   over time, reflecting the impact of long-term sanctions coupled with the more recent intense sanctions ordered by President Donald J. Trump and maintained by President Biden.    Iran has nevertheless been able to   its backing for Hezbollah in many other ways. It continues, for example, to provide not just arms but also  know-how so that Hezbollah engineers can   weapons locally. The ability to produce its own weapons has made Hezbollah into one of the best-supplied militias in the Middle East.      Experts on Iranian military strategy say that Tehran views Hezbollah forces in Lebanon as its first line of defense should Israel attack Iran.    Iran’s ties to Hezbollah date to Lebanon’s 15-year civil war, which started in 1975. By 1980, Lebanese Shiite Muslims, inspired in part by Iran, had begun an armed struggle against the Israeli military presence in southern Lebanon.    There were many reasons for Iran to aid the fighters, analysts say, but one big one was that doing so presented an opportunity for it to insert itself back into the political fabric of the Arab Middle East. A war with Iraq had left it cut off from much of the region, and especially from Sunni Muslim rulers wary of Iranian leaders.    Estimates by the U.S. military and arms     Hezbollah’s arsenal, the largest of the Iranian-linked groups, at about 135,000 to 150,000 rockets and missiles. Others estimate it is  . With ranges of up to 200 or so miles, they allow the militants to reach targets deep inside Israel.    Among the weapons,  , are between 100 to 400 recently retrofitted missiles with precision-guidance systems that can be programmed to land within meters of their targets. The technology is predominantly Iranian and Russian, though it is sometimes modified by Hezbollah’s weapon experts.    Military analysts view Hezbollah’s fighting force as more disciplined, better trained and better organized than most Middle East armies. It is made up of about   and 20,000 reservists. And, according to analysts, it has the ability to quickly recruit and train thousands of new foot soldiers through its role as a political power and a social-service provider in many Lebanese communities.    A recent addition to Iran’s network of allies, these militants have been attacking vessels in the Red Sea and the Gulf of Aden, a major shipping route. Saudi Arabia OMAN Houthi stronghold Red Sea YEMEN Sana ERITREA Gulf of Aden Aden DJIBOUTI Ethiopia SOMALIA 200 miles Saudi Arabia OMAN Houthi stronghold Red Sea YEMEN Sana Gulf of Aden Aden DJIBOUTI SOMALIA Ethiopia 200 miles The New York Times; Area of control via the Critical Threats Project at the American Enterprise Institute The Houthis became the de facto rulers of Yemen after taking control of the capital in 2014. They now   about a third of the country, home to 70 to 80 percent of the population, according to U.S. officials.    A Houthi attack on March 6 in the Red Sea  , wounded four others and damaged their Barbados-flagged cargo ship so badly that it sank. Other Houthi strikes have targeted vessels owned by Britain and Greece.    Since the war in Gaza broke out, the Houthis, expressing solidarity with the Palestinians in Gaza, have launched more than 60 missile and drone strikes on ships transiting the Red Sea and Gulf of Aden since the day the war in Gaza began, according to the  .      The attacks have affected commerce worldwide. Shipping through the Red Sea and Suez Canal has dropped at least 50 percent, according to the International Monetary Fund. Some industry analysts say the decrease is closer to 80 percent.    Ports in southern Mediterranean countries are feeling the losses most acutely. Houthi missiles have also targeted Israel’s southern port of Eilat.    Before the war, the Houthis attacked targets in the   and in  .    For the most part, the Houthis receive weapons and training from Iran instead of direct financial support, but   they have also received narcotics, and, in the past,  some petroleum products, both of which can be resold, giving the Houthis needed cash.  In December 2023, the U.S. Treasury   on individuals and on money exchanges in Iran, Turkey and Yemen that were involved in transferring millions of dollars from Iran to the Houthis.    The Houthis share Iran’s adherence to Shiite Islam as well as its antipathy for Saudi Arabia. During Yemen’s  , Iran and Hezbollah   the Houthis fight against both the Yemeni government and its Saudi backers.    Estimates vary widely on the Houthi militia’s manpower and the size of its arsenal.    Experts say it has about 20,000 trained fighters, but in interviews, Houthi leaders have claimed to have as many as 200,000, and in 2015 the United Nations put the number at about 75,000.    What is clear, based on the recent attacks, is that the Houthis have some highly trained units adept at operating increasingly sophisticated drones as well as anti-ship ballistic missiles and missiles intended for stationary targets on land.      Most of the anti-ship missiles and drones have been intercepted by U.S. or British warships or have fallen into the sea without doing damage.    But the Houthis have hit their targets often enough to increase risks and insurance costs, leading many major shippers to avoid the Red Sea route. Container traffic through the Red Sea has  . That has meant a noticeable reduction in business at some European ports.    The European shipping giants  , based in Denmark, and Hapag-Lloyd, based in Germany, are routing most of their loads around the Cape of Good Hope despite the added delivery time and cost. Those companies continuing to thread their way through the Red Sea are relying primarily on U.S. and European navies for protection.    According to a recent   and a  , many of the Houthis’ weapons are either Iranian or variations on Iranian models. They have used ballistic and cruise missiles to hit targets in southern Israel, more than 1,000 miles away.    Most recently, the Houthis have deployed sea drones, some that skim the water and others that travel under the surface. The   are considered to be   weaponry, according to Western intelligence analysts and the U.S. Naval Institute.    Iran has secured far-reaching influence on its neighbor and is a power both in Iraqi politics and in business across most of the country. TURKEY Erbil Tehran Mosul Aleppo Kirkuk IRAQ SYRIA IRAN High activity Approximate area of activity Damascus Baghdad Iraqi armed groups JORDAN Basra KUWAIT Saudi Arabia 100 miles TURKEY Mosul Erbil Kirkuk SYRIA IRAN High activity Approximate area of activity Baghdad IRAQ Iraqi armed groups Basra KUWAIT Saudi Arabia 200 miles The New York Times; Approximate areas of activity based on data from the Critical Threats Project at the American Enterprise Institute For nearly 20 years, Iraq has been a breeding ground for   Shiite militant groups. While they are less known than Al Qaeda or the Islamic State, they have been just as determined to strike U.S. targets.    Four in particular have had a hand in a number of the attacks in recent years: Kata’ib Hezbollah (which is unrelated to Hezbollah in Lebanon), Harakat al Nujaba, Kata’ib Sayyid al Shuhada and Asa’ib Ahl al Haq.    As war flared in Gaza in October, two of those groups turned up their strikes on American positions in Iraq. Kata’ib Hezbollah and Harakat al Nujaba launched 166 attacks on U.S. military installations in Iraq and Syria, according to a Pentagon spokesman.    The early attacks wounded about 70 troops, with most of the injuries relatively minor. On Jan. 28, however, a strike on a resupply base on the Jordanian-Syrian border   and wounded more than 34.    The Iraqi groups’ links to Iran go back almost two decades, and over the years Tehran has given them money, weapons and training.    Today, Iran still provides training and weapon parts as well as technical and strategic support. The Shiite groups, however, are now part of the Iraqi government’s security apparatus under the umbrella of the Popular Mobilization Forces, which includes more than 35 armed groups. The Iraqi government covers the salaries of most of the rank and file. It is unclear if Iran augments the salaries for commanders and the groups’ leadership.      Iran is believed not to dictate the groups’ targets or the timing of their attacks, but it does have some sway in persuading them to hold fire.    That is what happened after the deadly strike on the U.S. resupply base in January. Iran reportedly put   on the groups in Iraq to halt their strikes on U.S. camps and installations. The groups reluctantly agreed, although some continued to carry out occasional attacks in  .    Kata’ib Hezbollah, which analysts   has between 10,000 and 30,000 fighters, uses drones, rockets and missiles with ranges of up to about 700 miles, according to the U.S. Central Command.    With Iran’s help, the group has   the capacity to retrofit missiles to make them more accurate. It also has a variety of attack drones, including ones that can travel up to 450 miles. A drone   in the attack on the resupply base that killed three American troops.    Harakat al Nujaba and Kata’ib Sayyid al Shuhada have fewer troops — analysts estimate their troop numbers are closer to 1,000 to 5,000 — but use similar weapons. They operate primarily in Syria and have attacked Israel.    Nowhere has Iran given more resources to a regional government than Syria, which has been at war for over a decade. TURKEY Gaziantep Adana Mersin Syrian armed groups Aleppo Latakia Deir al-Zour SYRIA CYPRUS Homs Tartus Palmyra High activity LEBANON Approximate area of activity Mediterranean Sea Beirut IRAQ Damascus ISRAEL 100 miles JORDAN TURKEY Gaziantep Syrian armed groups Aleppo Latakia Deir al-Zour SYRIA Tartus Homs Palmyra High activity LEBANON Approximate area of activity Beirut Damascus IRAQ 100 miles JORDAN The New York Times; Approximate areas of activity based on data from the Critical Threats Project at the American Enterprise Institute Tehran has spread its resources widely,   both outside and within the Syrian government. In contrast to Lebanon, where Iran has focused its efforts on a nonstate armed entity, in Syria the support has gone to both government and nongovernmental armed actors.    Two are proxy groups made up of recruited in Iran and  by the Quds Force, the external military and intelligence service of the Islamic Revolutionary Guards Corps. Others are local forces made up of fellow Shiite Muslims, of Sunnis or of a mix of the Sunni, Shiite, Alawite and Christian faiths.    Iran has helped prop up President Bashar al-Assad in numerous ways, including through   to the government, supplies of discounted oil and payments to help sustain Syria’s military forces.    The Revolutionary Guards also field at least two militias in Syria: the Fatemiyoun brigade, made up of Afghan refugees, and the Zainebiyoun brigade, made up of Pakistani refugees. They reportedly pay other armed contingents more modest salaries.    Iran’s involvement in Syria goes back to just after the 1979 Iranian Revolution, when Syria supported the new government in Tehran as others shunned it. Iran sees Syria as a strategic partner offering it overland access to Hezbollah in Lebanon.    Syria is also where Iranian-backed forces retrofit, manufacture and store weapons that Iran then distributes to armed groups in Syria and around the region, above all Hezbollah. Over the past 12 to 15 years, at Iran’s behest, the Syrian government has   some of its   into production centers for retrofitting midrange rockets and missiles with precision-guidance systems, according to Israeli defense and intelligence reports.    The existence of these sites, some of which are underground for protection, became public in 2022 when an Israeli defense minister, Benny Gantz, spoke out about them after Israel bombed Syria and the strikes set off secondary explosions. The United States has also   Iranian weapon stores in Syria.    Syria also has a history of chemical-weapon production dating to the 1970s and of short- and midrange missiles   for their delivery, according to French intelligence officials. In 2023, the U.N. Security Council concluded that Syria still had chemical-weapon stores despite numerous international efforts to compel the government to destroy them.    Advertisement'"
      ]
     },
     "execution_count": 4,
     "metadata": {},
     "output_type": "execute_result"
    }
   ],
   "source": [
    "df[\"text\"][0]"
   ]
  },
  {
   "cell_type": "code",
   "execution_count": 5,
   "metadata": {},
   "outputs": [
    {
     "name": "stderr",
     "output_type": "stream",
     "text": [
      "[nltk_data] Downloading package punkt to C:\\Users\\Shaik\n",
      "[nltk_data]     Ifran\\AppData\\Roaming\\nltk_data...\n",
      "[nltk_data]   Package punkt is already up-to-date!\n",
      "[nltk_data] Downloading package stopwords to C:\\Users\\Shaik\n",
      "[nltk_data]     Ifran\\AppData\\Roaming\\nltk_data...\n",
      "[nltk_data]   Package stopwords is already up-to-date!\n"
     ]
    },
    {
     "data": {
      "text/plain": [
       "True"
      ]
     },
     "execution_count": 5,
     "metadata": {},
     "output_type": "execute_result"
    }
   ],
   "source": [
    "import nltk\n",
    "from nltk.corpus import stopwords\n",
    "from nltk.tokenize import word_tokenize\n",
    "from nltk.stem import PorterStemmer\n",
    "\n",
    "nltk.download('punkt')\n",
    "nltk.download('stopwords')"
   ]
  },
  {
   "cell_type": "code",
   "execution_count": 6,
   "metadata": {},
   "outputs": [],
   "source": [
    "def preprocess_text(text):\n",
    "    # Tokenization\n",
    "    tokens = word_tokenize(text.lower())  # Convert to lowercase and tokenize\n",
    "\n",
    "    # Stopword removal\n",
    "    stop_words = set(stopwords.words('english'))\n",
    "    filtered_tokens = [word for word in tokens if word not in stop_words]\n",
    "\n",
    "    # Stemming\n",
    "    stemmer = PorterStemmer()\n",
    "    stemmed_tokens = [stemmer.stem(word) for word in filtered_tokens]\n",
    "\n",
    "    return stemmed_tokens"
   ]
  },
  {
   "cell_type": "code",
   "execution_count": 7,
   "metadata": {},
   "outputs": [
    {
     "data": {
      "text/html": [
       "<div>\n",
       "<style scoped>\n",
       "    .dataframe tbody tr th:only-of-type {\n",
       "        vertical-align: middle;\n",
       "    }\n",
       "\n",
       "    .dataframe tbody tr th {\n",
       "        vertical-align: top;\n",
       "    }\n",
       "\n",
       "    .dataframe thead th {\n",
       "        text-align: right;\n",
       "    }\n",
       "</style>\n",
       "<table border=\"1\" class=\"dataframe\">\n",
       "  <thead>\n",
       "    <tr style=\"text-align: right;\">\n",
       "      <th></th>\n",
       "      <th>headline</th>\n",
       "      <th>article</th>\n",
       "      <th>text</th>\n",
       "      <th>processed_text</th>\n",
       "    </tr>\n",
       "  </thead>\n",
       "  <tbody>\n",
       "    <tr>\n",
       "      <th>0</th>\n",
       "      <td>Power by Proxy: How Iran Shapes the Mideast</td>\n",
       "      <td>Advertisement    and     TURKEY Militias in Sy...</td>\n",
       "      <td>Power by Proxy: How Iran Shapes the Mideast Ad...</td>\n",
       "      <td>[power, proxi, :, iran, shape, mideast, advert...</td>\n",
       "    </tr>\n",
       "    <tr>\n",
       "      <th>1</th>\n",
       "      <td>Arrests Expose Rift Between N.Y.P.D. and ‘Viol...</td>\n",
       "      <td>Advertisement Supported by An outreach worker ...</td>\n",
       "      <td>Arrests Expose Rift Between N.Y.P.D. and ‘Viol...</td>\n",
       "      <td>[arrest, expos, rift, n.y.p.d, ., ‘, violenc, ...</td>\n",
       "    </tr>\n",
       "  </tbody>\n",
       "</table>\n",
       "</div>"
      ],
      "text/plain": [
       "                                            headline  \\\n",
       "0        Power by Proxy: How Iran Shapes the Mideast   \n",
       "1  Arrests Expose Rift Between N.Y.P.D. and ‘Viol...   \n",
       "\n",
       "                                             article  \\\n",
       "0  Advertisement    and     TURKEY Militias in Sy...   \n",
       "1  Advertisement Supported by An outreach worker ...   \n",
       "\n",
       "                                                text  \\\n",
       "0  Power by Proxy: How Iran Shapes the Mideast Ad...   \n",
       "1  Arrests Expose Rift Between N.Y.P.D. and ‘Viol...   \n",
       "\n",
       "                                      processed_text  \n",
       "0  [power, proxi, :, iran, shape, mideast, advert...  \n",
       "1  [arrest, expos, rift, n.y.p.d, ., ‘, violenc, ...  "
      ]
     },
     "execution_count": 7,
     "metadata": {},
     "output_type": "execute_result"
    }
   ],
   "source": [
    "# Assuming 'concatenated_text' is the name of your concatenated column\n",
    "df['processed_text'] = df['text'].apply(preprocess_text)\n",
    "df.head(2)"
   ]
  },
  {
   "cell_type": "markdown",
   "metadata": {},
   "source": [
    "## TF-IDF Vectorization"
   ]
  },
  {
   "cell_type": "code",
   "execution_count": 8,
   "metadata": {},
   "outputs": [
    {
     "data": {
      "text/html": [
       "<div>\n",
       "<style scoped>\n",
       "    .dataframe tbody tr th:only-of-type {\n",
       "        vertical-align: middle;\n",
       "    }\n",
       "\n",
       "    .dataframe tbody tr th {\n",
       "        vertical-align: top;\n",
       "    }\n",
       "\n",
       "    .dataframe thead th {\n",
       "        text-align: right;\n",
       "    }\n",
       "</style>\n",
       "<table border=\"1\" class=\"dataframe\">\n",
       "  <thead>\n",
       "    <tr style=\"text-align: right;\">\n",
       "      <th></th>\n",
       "      <th>000</th>\n",
       "      <th>05</th>\n",
       "      <th>07</th>\n",
       "      <th>10</th>\n",
       "      <th>100</th>\n",
       "      <th>102</th>\n",
       "      <th>108</th>\n",
       "      <th>10th</th>\n",
       "      <th>11</th>\n",
       "      <th>11th</th>\n",
       "      <th>...</th>\n",
       "      <th>zawada</th>\n",
       "      <th>zelenski</th>\n",
       "      <th>zero</th>\n",
       "      <th>zionism</th>\n",
       "      <th>zionist</th>\n",
       "      <th>zip</th>\n",
       "      <th>zohar</th>\n",
       "      <th>zone</th>\n",
       "      <th>zour</th>\n",
       "      <th>zuckerberg</th>\n",
       "    </tr>\n",
       "  </thead>\n",
       "  <tbody>\n",
       "    <tr>\n",
       "      <th>0</th>\n",
       "      <td>0.056524</td>\n",
       "      <td>0.0</td>\n",
       "      <td>0.0</td>\n",
       "      <td>0.005139</td>\n",
       "      <td>0.033564</td>\n",
       "      <td>0.0</td>\n",
       "      <td>0.0</td>\n",
       "      <td>0.0</td>\n",
       "      <td>0.000000</td>\n",
       "      <td>0.0</td>\n",
       "      <td>...</td>\n",
       "      <td>0.0</td>\n",
       "      <td>0.000000</td>\n",
       "      <td>0.000000</td>\n",
       "      <td>0.000000</td>\n",
       "      <td>0.000000</td>\n",
       "      <td>0.0</td>\n",
       "      <td>0.0</td>\n",
       "      <td>0.0</td>\n",
       "      <td>0.023506</td>\n",
       "      <td>0.0</td>\n",
       "    </tr>\n",
       "    <tr>\n",
       "      <th>1</th>\n",
       "      <td>0.000000</td>\n",
       "      <td>0.0</td>\n",
       "      <td>0.0</td>\n",
       "      <td>0.000000</td>\n",
       "      <td>0.000000</td>\n",
       "      <td>0.0</td>\n",
       "      <td>0.0</td>\n",
       "      <td>0.0</td>\n",
       "      <td>0.000000</td>\n",
       "      <td>0.0</td>\n",
       "      <td>...</td>\n",
       "      <td>0.0</td>\n",
       "      <td>0.000000</td>\n",
       "      <td>0.000000</td>\n",
       "      <td>0.000000</td>\n",
       "      <td>0.000000</td>\n",
       "      <td>0.0</td>\n",
       "      <td>0.0</td>\n",
       "      <td>0.0</td>\n",
       "      <td>0.000000</td>\n",
       "      <td>0.0</td>\n",
       "    </tr>\n",
       "    <tr>\n",
       "      <th>2</th>\n",
       "      <td>0.056993</td>\n",
       "      <td>0.0</td>\n",
       "      <td>0.0</td>\n",
       "      <td>0.022797</td>\n",
       "      <td>0.000000</td>\n",
       "      <td>0.0</td>\n",
       "      <td>0.0</td>\n",
       "      <td>0.0</td>\n",
       "      <td>0.032056</td>\n",
       "      <td>0.0</td>\n",
       "      <td>...</td>\n",
       "      <td>0.0</td>\n",
       "      <td>0.021746</td>\n",
       "      <td>0.021746</td>\n",
       "      <td>0.000000</td>\n",
       "      <td>0.000000</td>\n",
       "      <td>0.0</td>\n",
       "      <td>0.0</td>\n",
       "      <td>0.0</td>\n",
       "      <td>0.000000</td>\n",
       "      <td>0.0</td>\n",
       "    </tr>\n",
       "    <tr>\n",
       "      <th>3</th>\n",
       "      <td>0.008714</td>\n",
       "      <td>0.0</td>\n",
       "      <td>0.0</td>\n",
       "      <td>0.000000</td>\n",
       "      <td>0.000000</td>\n",
       "      <td>0.0</td>\n",
       "      <td>0.0</td>\n",
       "      <td>0.0</td>\n",
       "      <td>0.000000</td>\n",
       "      <td>0.0</td>\n",
       "      <td>...</td>\n",
       "      <td>0.0</td>\n",
       "      <td>0.000000</td>\n",
       "      <td>0.000000</td>\n",
       "      <td>0.017997</td>\n",
       "      <td>0.019931</td>\n",
       "      <td>0.0</td>\n",
       "      <td>0.0</td>\n",
       "      <td>0.0</td>\n",
       "      <td>0.000000</td>\n",
       "      <td>0.0</td>\n",
       "    </tr>\n",
       "    <tr>\n",
       "      <th>4</th>\n",
       "      <td>0.000000</td>\n",
       "      <td>0.0</td>\n",
       "      <td>0.0</td>\n",
       "      <td>0.031637</td>\n",
       "      <td>0.000000</td>\n",
       "      <td>0.0</td>\n",
       "      <td>0.0</td>\n",
       "      <td>0.0</td>\n",
       "      <td>0.000000</td>\n",
       "      <td>0.0</td>\n",
       "      <td>...</td>\n",
       "      <td>0.0</td>\n",
       "      <td>0.000000</td>\n",
       "      <td>0.000000</td>\n",
       "      <td>0.000000</td>\n",
       "      <td>0.000000</td>\n",
       "      <td>0.0</td>\n",
       "      <td>0.0</td>\n",
       "      <td>0.0</td>\n",
       "      <td>0.000000</td>\n",
       "      <td>0.0</td>\n",
       "    </tr>\n",
       "  </tbody>\n",
       "</table>\n",
       "<p>5 rows × 7196 columns</p>\n",
       "</div>"
      ],
      "text/plain": [
       "        000   05   07        10       100  102  108  10th        11  11th  \\\n",
       "0  0.056524  0.0  0.0  0.005139  0.033564  0.0  0.0   0.0  0.000000   0.0   \n",
       "1  0.000000  0.0  0.0  0.000000  0.000000  0.0  0.0   0.0  0.000000   0.0   \n",
       "2  0.056993  0.0  0.0  0.022797  0.000000  0.0  0.0   0.0  0.032056   0.0   \n",
       "3  0.008714  0.0  0.0  0.000000  0.000000  0.0  0.0   0.0  0.000000   0.0   \n",
       "4  0.000000  0.0  0.0  0.031637  0.000000  0.0  0.0   0.0  0.000000   0.0   \n",
       "\n",
       "   ...  zawada  zelenski      zero   zionism   zionist  zip  zohar  zone  \\\n",
       "0  ...     0.0  0.000000  0.000000  0.000000  0.000000  0.0    0.0   0.0   \n",
       "1  ...     0.0  0.000000  0.000000  0.000000  0.000000  0.0    0.0   0.0   \n",
       "2  ...     0.0  0.021746  0.021746  0.000000  0.000000  0.0    0.0   0.0   \n",
       "3  ...     0.0  0.000000  0.000000  0.017997  0.019931  0.0    0.0   0.0   \n",
       "4  ...     0.0  0.000000  0.000000  0.000000  0.000000  0.0    0.0   0.0   \n",
       "\n",
       "       zour  zuckerberg  \n",
       "0  0.023506         0.0  \n",
       "1  0.000000         0.0  \n",
       "2  0.000000         0.0  \n",
       "3  0.000000         0.0  \n",
       "4  0.000000         0.0  \n",
       "\n",
       "[5 rows x 7196 columns]"
      ]
     },
     "execution_count": 8,
     "metadata": {},
     "output_type": "execute_result"
    }
   ],
   "source": [
    "from sklearn.feature_extraction.text import TfidfVectorizer\n",
    "\n",
    "# Initialize TfidfVectorizer\n",
    "tfidf_vectorizer = TfidfVectorizer()\n",
    "\n",
    "# Fit and transform the processed_text column to compute TF-IDF scores\n",
    "tfidf_matrix = tfidf_vectorizer.fit_transform(df['processed_text'].apply(lambda x: ' '.join(x)))\n",
    "\n",
    "# Convert TF-IDF matrix to DataFrame for better visualization\n",
    "tfidf_df = pd.DataFrame(tfidf_matrix.toarray(), columns=tfidf_vectorizer.get_feature_names_out())\n",
    "\n",
    "# Display the TF-IDF DataFrame\n",
    "tfidf_df.head()"
   ]
  },
  {
   "cell_type": "code",
   "execution_count": 9,
   "metadata": {},
   "outputs": [
    {
     "data": {
      "text/plain": [
       "array(['000', '05', '07', ..., 'zone', 'zour', 'zuckerberg'], dtype=object)"
      ]
     },
     "execution_count": 9,
     "metadata": {},
     "output_type": "execute_result"
    }
   ],
   "source": [
    "tfidf_vectorizer.get_feature_names_out()"
   ]
  },
  {
   "cell_type": "code",
   "execution_count": 10,
   "metadata": {},
   "outputs": [
    {
     "data": {
      "text/plain": [
       "((47, 7196), (47, 4))"
      ]
     },
     "execution_count": 10,
     "metadata": {},
     "output_type": "execute_result"
    }
   ],
   "source": [
    "tfidf_df.shape,df.shape"
   ]
  },
  {
   "cell_type": "code",
   "execution_count": 11,
   "metadata": {},
   "outputs": [],
   "source": [
    "import pickle\n",
    "\n",
    "# Save DataFrames to CSV files\n",
    "df.to_csv('nytimes_articles.csv', index=False)\n",
    "tfidf_df.to_csv('tfidf_matrix.csv', index=False)\n",
    "\n",
    "# Save TF-IDF vectorizer to pickle file\n",
    "with open('tfidf_vectorizer.pkl', 'wb') as f:\n",
    "    pickle.dump(tfidf_vectorizer, f)\n"
   ]
  },
  {
   "cell_type": "markdown",
   "metadata": {},
   "source": [
    "## Word2Vec Vectorization"
   ]
  },
  {
   "cell_type": "code",
   "execution_count": 12,
   "metadata": {},
   "outputs": [],
   "source": [
    "import gensim.downloader as api\n",
    "import numpy as np\n",
    "import pandas as pd\n",
    "\n",
    "# Download the pre-trained Word2Vec model\n",
    "model = api.load(\"word2vec-google-news-300\")\n",
    "\n",
    "# Generate Word2Vec embeddings for each word\n",
    "def generate_word_embeddings(words):\n",
    "    embeddings = []\n",
    "    for word in words:\n",
    "        try:\n",
    "            embeddings.append(model[word])\n",
    "        except KeyError:\n",
    "            # If word not in vocabulary, ignore or handle accordingly\n",
    "            pass\n",
    "    return embeddings\n",
    "\n",
    "def calculate_average_embedding(embeddings):\n",
    "    if not embeddings:\n",
    "        # If no embeddings found, return None or zeros\n",
    "        return np.zeros(model.vector_size)\n",
    "    return np.mean(embeddings, axis=0)\n",
    "\n",
    "# Create a new dataframe for storing embeddings\n",
    "embeddings_df = pd.DataFrame()\n",
    "\n",
    "# Get embeddings for each tokenized text and assign to a new column in embeddings_df\n",
    "df['word_embeddings'] = df['processed_text'].apply(generate_word_embeddings)\n",
    "\n",
    "embeddings_vec = df['word_embeddings'].apply(calculate_average_embedding)\n",
    "# Now you have the Word2Vec embeddings in a separate dataframe 'embeddings_df'"
   ]
  },
  {
   "cell_type": "code",
   "execution_count": 13,
   "metadata": {},
   "outputs": [
    {
     "data": {
      "text/plain": [
       "pandas.core.series.Series"
      ]
     },
     "execution_count": 13,
     "metadata": {},
     "output_type": "execute_result"
    }
   ],
   "source": [
    "type(embeddings_vec)"
   ]
  },
  {
   "cell_type": "code",
   "execution_count": 14,
   "metadata": {},
   "outputs": [
    {
     "data": {
      "text/plain": [
       "(300,)"
      ]
     },
     "execution_count": 14,
     "metadata": {},
     "output_type": "execute_result"
    }
   ],
   "source": [
    "embeddings_vec[1].shape"
   ]
  },
  {
   "cell_type": "code",
   "execution_count": 15,
   "metadata": {},
   "outputs": [],
   "source": [
    "import pickle\n",
    "\n",
    "with open('embeddings_vec.pkl', 'wb') as f:\n",
    "    pickle.dump(embeddings_vec, f)"
   ]
  },
  {
   "cell_type": "code",
   "execution_count": null,
   "metadata": {},
   "outputs": [],
   "source": []
  }
 ],
 "metadata": {
  "kernelspec": {
   "display_name": "myenv",
   "language": "python",
   "name": "python3"
  },
  "language_info": {
   "codemirror_mode": {
    "name": "ipython",
    "version": 3
   },
   "file_extension": ".py",
   "mimetype": "text/x-python",
   "name": "python",
   "nbconvert_exporter": "python",
   "pygments_lexer": "ipython3",
   "version": "3.9.19"
  }
 },
 "nbformat": 4,
 "nbformat_minor": 2
}
